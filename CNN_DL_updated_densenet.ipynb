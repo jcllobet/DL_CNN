{
 "cells": [
  {
   "cell_type": "markdown",
   "metadata": {},
   "source": [
    "# Developing an AI application\n",
    "\n",
    "Going forward, AI algorithms will be incorporated into more and more everyday applications. For example, we might want to include an image classifier in a smart phone app. To do this, we'd use a deep learning model trained on hundreds of thousands of images as part of the overall application architecture. A large part of software development in the future will be using these types of models as common parts of applications. \n",
    "\n",
    "In this project, we have trined an image classifier to recognize different species of flowers, then export it for use in your application. We'll be using [this dataset](http://www.robots.ox.ac.uk/~vgg/data/flowers/102/index.html) of 102 flower categories, it can be seen a few examples below. \n",
    "\n",
    "<img src='assets/Flowers.png' width=500px>\n",
    "\n",
    "The project is broken down into multiple steps:\n",
    "\n",
    "* Load and preprocess the image dataset\n",
    "* Train the image classifier on your dataset\n",
    "* Use the trained classifier to predict image content"
   ]
  },
  {
   "cell_type": "code",
   "execution_count": 1,
   "metadata": {},
   "outputs": [],
   "source": [
    "# Imports here\n",
    "import matplotlib.pyplot as plt\n",
    "import numpy as np\n",
    "import json\n",
    "import torch\n",
    "from torch import nn \n",
    "from torch import optim\n",
    "import torch.nn.functional as F\n",
    "import torchvision\n",
    "from torchvision import transforms,datasets,models\n",
    "from PIL import Image\n",
    "from network import Network\n",
    "%matplotlib inline\n",
    "%config InlineBackend.figure_format = 'retina'"
   ]
  },
  {
   "cell_type": "markdown",
   "metadata": {},
   "source": [
    "## Loading the data\n",
    "\n",
    "Here we use `torchvision` to load the data ([documentation](http://pytorch.org/docs/master/torchvision/transforms.html#)). The data should be included alongside this notebook, otherwise, [download it here](https://s3.amazonaws.com/content.udacity-data.com/nd089/flower_data.tar.gz). The dataset is split into three parts, training, validation, and testing. For the training, we'll apply transformations such as random scaling, cropping, and flipping. This will help the network generalize leading to better performance. You'll also need to make sure the input data is resized to 224x224 pixels as required by the pre-trained networks.\n",
    "\n",
    "The validation and testing sets are used to measure the model's performance on data it hasn't seen yet. For this you don't want any scaling or rotation transformations, but you'll need to resize then crop the images to the appropriate size.\n",
    "\n",
    "For all three sets we have normalized the means and standard deviations of the images to what the network expects. For the means, it's `[0.485, 0.456, 0.406]` and for the standard deviations `[0.229, 0.224, 0.225]`. This converts the values of each color channel to be between -1 and 1 instead of 0 and 1."
   ]
  },
  {
   "cell_type": "code",
   "execution_count": 2,
   "metadata": {},
   "outputs": [],
   "source": [
    "data_dir = 'flowers'\n",
    "train_dir = data_dir + '/train'\n",
    "valid_dir = data_dir + '/valid'\n",
    "test_dir = data_dir + '/test'"
   ]
  },
  {
   "cell_type": "code",
   "execution_count": 3,
   "metadata": {},
   "outputs": [],
   "source": [
    "train_transforms = transforms.Compose([transforms.Resize(256),\n",
    "                                       transforms.RandomRotation(30),\n",
    "                                       transforms.RandomResizedCrop(224),\n",
    "                                       transforms.RandomHorizontalFlip(),\n",
    "                                       transforms.ToTensor(),\n",
    "                                       transforms.Normalize([0.485, 0.456, 0.406], \n",
    "                                                            [0.229, 0.224, 0.225])])\n",
    "test_transforms = transforms.Compose([transforms.Resize(256),\n",
    "                                      transforms.CenterCrop(224),\n",
    "                                      transforms.ToTensor(),\n",
    "                                      transforms.Normalize([0.485, 0.456, 0.406], \n",
    "                                                           [0.229, 0.224, 0.225])])\n",
    "valid_transforms = transforms.Compose([transforms.Resize(256),\n",
    "                                      transforms.CenterCrop(224),\n",
    "                                      transforms.ToTensor(),\n",
    "                                      transforms.Normalize([0.485, 0.456, 0.406], \n",
    "                                                           [0.229, 0.224, 0.225])])\n",
    "\n",
    "\n",
    "train_dataset = datasets.ImageFolder(train_dir, transform = train_transforms)\n",
    "test_dataset = datasets.ImageFolder(test_dir, transform = test_transforms)\n",
    "valid_dataset = datasets.ImageFolder(valid_dir, transform = test_transforms)\n",
    "\n",
    "\n",
    "train_loader = torch.utils.data.DataLoader(train_dataset,batch_size = 64, shuffle=True)\n",
    "test_loader = torch.utils.data.DataLoader(test_dataset,batch_size = 64)\n",
    "valid_loader = torch.utils.data.DataLoader(valid_dataset,batch_size = 64)"
   ]
  },
  {
   "cell_type": "markdown",
   "metadata": {},
   "source": [
    "### Label mapping\n",
    "\n",
    "We'll also need to load in a mapping from category label to category name. We can find this in the file `cat_to_name.json`. It's a JSON object which can be read in with the [`json` module](https://docs.python.org/2/library/json.html). This will give us a dictionary mapping the integer encoded categories to the actual names of the flowers."
   ]
  },
  {
   "cell_type": "code",
   "execution_count": 4,
   "metadata": {},
   "outputs": [],
   "source": [
    "import json\n",
    "\n",
    "with open('cat_to_name.json', 'r') as f:\n",
    "    cat_to_name = json.load(f)"
   ]
  },
  {
   "cell_type": "markdown",
   "metadata": {},
   "source": [
    "# Building and training the classifier\n",
    "\n",
    "Now that the data is ready, it's time to build and train the classifier. As usual, we should use one of the pretrained models from `torchvision.models` to get the image features. Build and train a new feed-forward classifier using those features."
   ]
  },
  {
   "cell_type": "code",
   "execution_count": null,
   "metadata": {},
   "outputs": [
    {
     "name": "stderr",
     "output_type": "stream",
     "text": [
      "/home/jan/anaconda3/envs/PytorchDL/lib/python3.6/site-packages/torchvision/models/densenet.py:212: UserWarning: nn.init.kaiming_normal is now deprecated in favor of nn.init.kaiming_normal_.\n",
      "  nn.init.kaiming_normal(m.weight.data)\n"
     ]
    }
   ],
   "source": [
    "model = models.densenet201(pretrained=True)\n",
    "for param in model.parameters():\n",
    "    param.requires_grad = False"
   ]
  },
  {
   "cell_type": "code",
   "execution_count": null,
   "metadata": {},
   "outputs": [],
   "source": [
    "input_size = 1920\n",
    "hidden_sizes = [512]\n",
    "output_size = 102\n",
    "dropout = 0.5\n",
    "classifier = Network(input_size,hidden_sizes,output_size,dropout)\n",
    "model.classifier = classifier\n"
   ]
  },
  {
   "cell_type": "code",
   "execution_count": null,
   "metadata": {},
   "outputs": [],
   "source": [
    "criterion = nn.NLLLoss()\n",
    "#criterion = nn.CrossEntropyLoss()\n",
    "optimizer = optim.Adam(model.parameters(), lr=0.001)\n",
    "cuda = torch.cuda.is_available()"
   ]
  },
  {
   "cell_type": "code",
   "execution_count": null,
   "metadata": {},
   "outputs": [],
   "source": [
    "def validate(model, loader):\n",
    "    test_loss = 0\n",
    "    accuracy = 0\n",
    "    if cuda:\n",
    "        model.cuda()\n",
    "    for images, labels in valid_loader:\n",
    "        if cuda:\n",
    "            images,labels = images.cuda(), labels.cuda()\n",
    "        \n",
    "        output = model.forward(images)\n",
    "        test_loss += criterion(output, labels).item()\n",
    "\n",
    "        ps = torch.exp(output)\n",
    "        top_p,top_class = ps.topk(1,dim=1)\n",
    "        equality = (top_class == labels.view(*top_class.shape))\n",
    "        accuracy += torch.mean(equality.type(torch.FloatTensor)).item()\n",
    "    \n",
    "    return test_loss, (accuracy*100)"
   ]
  },
  {
   "cell_type": "code",
   "execution_count": null,
   "metadata": {},
   "outputs": [
    {
     "name": "stdout",
     "output_type": "stream",
     "text": [
      "Epoch: 1/40..  Training Loss: 4.409..  Validation Loss: 4.085..  Validation Accuracy: 14.76 %\n",
      "Epoch: 1/40..  Training Loss: 3.938..  Validation Loss: 3.371..  Validation Accuracy: 34.76 %\n",
      "Epoch: 1/40..  Training Loss: 3.316..  Validation Loss: 2.613..  Validation Accuracy: 45.66 %\n",
      "Epoch: 1/40..  Training Loss: 2.704..  Validation Loss: 2.061..  Validation Accuracy: 60.37 %\n",
      "Epoch: 2/40..  Training Loss: 2.044..  Validation Loss: 1.709..  Validation Accuracy: 69.36 %\n",
      "Epoch: 2/40..  Training Loss: 2.036..  Validation Loss: 1.350..  Validation Accuracy: 76.14 %\n",
      "Epoch: 2/40..  Training Loss: 1.797..  Validation Loss: 1.218..  Validation Accuracy: 76.27 %\n",
      "Epoch: 2/40..  Training Loss: 1.652..  Validation Loss: 1.014..  Validation Accuracy: 81.69 %\n",
      "Epoch: 3/40..  Training Loss: 1.171..  Validation Loss: 0.928..  Validation Accuracy: 81.07 %\n",
      "Epoch: 3/40..  Training Loss: 1.395..  Validation Loss: 0.807..  Validation Accuracy: 83.54 %\n",
      "Epoch: 3/40..  Training Loss: 1.341..  Validation Loss: 0.758..  Validation Accuracy: 84.02 %\n",
      "Epoch: 3/40..  Training Loss: 1.266..  Validation Loss: 0.695..  Validation Accuracy: 85.60 %\n",
      "Epoch: 4/40..  Training Loss: 0.724..  Validation Loss: 0.648..  Validation Accuracy: 85.70 %\n",
      "Epoch: 4/40..  Training Loss: 1.132..  Validation Loss: 0.579..  Validation Accuracy: 87.90 %\n",
      "Epoch: 4/40..  Training Loss: 1.113..  Validation Loss: 0.579..  Validation Accuracy: 85.62 %\n",
      "Epoch: 4/40..  Training Loss: 1.055..  Validation Loss: 0.543..  Validation Accuracy: 88.11 %\n",
      "Epoch: 5/40..  Training Loss: 0.507..  Validation Loss: 0.509..  Validation Accuracy: 88.37 %\n",
      "Epoch: 5/40..  Training Loss: 0.969..  Validation Loss: 0.472..  Validation Accuracy: 89.91 %\n",
      "Epoch: 5/40..  Training Loss: 0.966..  Validation Loss: 0.453..  Validation Accuracy: 90.82 %\n",
      "Epoch: 5/40..  Training Loss: 0.898..  Validation Loss: 0.407..  Validation Accuracy: 90.90 %\n",
      "Epoch: 6/40..  Training Loss: 0.395..  Validation Loss: 0.423..  Validation Accuracy: 92.31 %\n",
      "Epoch: 6/40..  Training Loss: 0.843..  Validation Loss: 0.416..  Validation Accuracy: 90.99 %\n",
      "Epoch: 6/40..  Training Loss: 0.859..  Validation Loss: 0.392..  Validation Accuracy: 90.58 %\n",
      "Epoch: 6/40..  Training Loss: 0.881..  Validation Loss: 0.392..  Validation Accuracy: 90.82 %\n",
      "Epoch: 7/40..  Training Loss: 0.211..  Validation Loss: 0.387..  Validation Accuracy: 90.82 %\n",
      "Epoch: 7/40..  Training Loss: 0.842..  Validation Loss: 0.366..  Validation Accuracy: 91.54 %\n",
      "Epoch: 7/40..  Training Loss: 0.895..  Validation Loss: 0.375..  Validation Accuracy: 91.20 %\n",
      "Epoch: 7/40..  Training Loss: 0.789..  Validation Loss: 0.370..  Validation Accuracy: 91.06 %\n",
      "Epoch: 8/40..  Training Loss: 0.134..  Validation Loss: 0.341..  Validation Accuracy: 92.02 %\n",
      "Epoch: 8/40..  Training Loss: 0.783..  Validation Loss: 0.329..  Validation Accuracy: 91.11 %\n",
      "Epoch: 8/40..  Training Loss: 0.770..  Validation Loss: 0.303..  Validation Accuracy: 92.69 %\n",
      "Epoch: 8/40..  Training Loss: 0.717..  Validation Loss: 0.325..  Validation Accuracy: 92.26 %\n",
      "Epoch: 9/40..  Training Loss: 0.021..  Validation Loss: 0.328..  Validation Accuracy: 90.90 %\n",
      "Epoch: 9/40..  Training Loss: 0.760..  Validation Loss: 0.320..  Validation Accuracy: 92.59 %\n",
      "Epoch: 9/40..  Training Loss: 0.740..  Validation Loss: 0.345..  Validation Accuracy: 90.61 %\n",
      "Epoch: 9/40..  Training Loss: 0.698..  Validation Loss: 0.276..  Validation Accuracy: 93.74 %\n",
      "Epoch: 9/40..  Training Loss: 0.720..  Validation Loss: 0.298..  Validation Accuracy: 92.29 %\n",
      "Epoch: 10/40..  Training Loss: 0.624..  Validation Loss: 0.279..  Validation Accuracy: 92.17 %\n",
      "Epoch: 10/40..  Training Loss: 0.719..  Validation Loss: 0.275..  Validation Accuracy: 93.17 %\n",
      "Epoch: 10/40..  Training Loss: 0.638..  Validation Loss: 0.285..  Validation Accuracy: 92.23 %\n",
      "Epoch: 10/40..  Training Loss: 0.678..  Validation Loss: 0.263..  Validation Accuracy: 94.13 %\n",
      "Epoch: 11/40..  Training Loss: 0.573..  Validation Loss: 0.275..  Validation Accuracy: 93.13 %\n",
      "Epoch: 11/40..  Training Loss: 0.715..  Validation Loss: 0.247..  Validation Accuracy: 94.76 %\n",
      "Epoch: 11/40..  Training Loss: 0.666..  Validation Loss: 0.257..  Validation Accuracy: 93.58 %\n",
      "Epoch: 11/40..  Training Loss: 0.652..  Validation Loss: 0.273..  Validation Accuracy: 92.74 %\n",
      "Epoch: 12/40..  Training Loss: 0.426..  Validation Loss: 0.246..  Validation Accuracy: 93.38 %\n",
      "Epoch: 12/40..  Training Loss: 0.642..  Validation Loss: 0.244..  Validation Accuracy: 92.88 %\n",
      "Epoch: 12/40..  Training Loss: 0.666..  Validation Loss: 0.261..  Validation Accuracy: 92.89 %\n",
      "Epoch: 12/40..  Training Loss: 0.649..  Validation Loss: 0.246..  Validation Accuracy: 92.74 %\n",
      "Epoch: 13/40..  Training Loss: 0.376..  Validation Loss: 0.269..  Validation Accuracy: 93.29 %\n",
      "Epoch: 13/40..  Training Loss: 0.636..  Validation Loss: 0.238..  Validation Accuracy: 92.77 %\n",
      "Epoch: 13/40..  Training Loss: 0.579..  Validation Loss: 0.213..  Validation Accuracy: 94.61 %\n",
      "Epoch: 13/40..  Training Loss: 0.635..  Validation Loss: 0.227..  Validation Accuracy: 94.94 %\n",
      "Epoch: 14/40..  Training Loss: 0.257..  Validation Loss: 0.254..  Validation Accuracy: 93.82 %\n",
      "Epoch: 14/40..  Training Loss: 0.599..  Validation Loss: 0.238..  Validation Accuracy: 93.25 %\n",
      "Epoch: 14/40..  Training Loss: 0.631..  Validation Loss: 0.228..  Validation Accuracy: 93.89 %\n",
      "Epoch: 14/40..  Training Loss: 0.603..  Validation Loss: 0.224..  Validation Accuracy: 94.85 %\n",
      "Epoch: 15/40..  Training Loss: 0.224..  Validation Loss: 0.249..  Validation Accuracy: 93.34 %\n",
      "Epoch: 15/40..  Training Loss: 0.613..  Validation Loss: 0.232..  Validation Accuracy: 94.34 %\n",
      "Epoch: 15/40..  Training Loss: 0.621..  Validation Loss: 0.231..  Validation Accuracy: 94.18 %\n",
      "Epoch: 15/40..  Training Loss: 0.630..  Validation Loss: 0.211..  Validation Accuracy: 94.22 %\n",
      "Epoch: 16/40..  Training Loss: 0.103..  Validation Loss: 0.218..  Validation Accuracy: 94.15 %\n",
      "Epoch: 16/40..  Training Loss: 0.539..  Validation Loss: 0.200..  Validation Accuracy: 95.57 %\n",
      "Epoch: 16/40..  Training Loss: 0.571..  Validation Loss: 0.219..  Validation Accuracy: 93.77 %\n",
      "Epoch: 16/40..  Training Loss: 0.568..  Validation Loss: 0.236..  Validation Accuracy: 94.08 %\n",
      "Epoch: 17/40..  Training Loss: 0.047..  Validation Loss: 0.223..  Validation Accuracy: 94.58 %\n",
      "Epoch: 17/40..  Training Loss: 0.600..  Validation Loss: 0.239..  Validation Accuracy: 93.98 %\n",
      "Epoch: 17/40..  Training Loss: 0.614..  Validation Loss: 0.217..  Validation Accuracy: 93.86 %\n",
      "Epoch: 17/40..  Training Loss: 0.579..  Validation Loss: 0.220..  Validation Accuracy: 94.76 %\n",
      "Epoch: 17/40..  Training Loss: 0.582..  Validation Loss: 0.214..  Validation Accuracy: 95.45 %\n",
      "Epoch: 18/40..  Training Loss: 0.501..  Validation Loss: 0.216..  Validation Accuracy: 94.82 %\n",
      "Epoch: 18/40..  Training Loss: 0.547..  Validation Loss: 0.214..  Validation Accuracy: 93.74 %\n",
      "Epoch: 18/40..  Training Loss: 0.536..  Validation Loss: 0.219..  Validation Accuracy: 95.09 %\n"
     ]
    }
   ],
   "source": [
    "epochs = 40\n",
    "print_every = 25\n",
    "steps = 0\n",
    "\n",
    "if cuda:\n",
    "    model.cuda()\n",
    "\n",
    "for e in range(epochs):\n",
    "    running_loss = 0\n",
    "    model.train()\n",
    "    \n",
    "    for inputs, labels in train_loader:\n",
    "        steps += 1\n",
    "        optimizer.zero_grad()\n",
    "        if cuda:\n",
    "            inputs, labels = inputs.cuda(), labels.cuda()\n",
    "        outputs = model.forward(inputs)\n",
    "        loss = criterion(outputs, labels)\n",
    "        loss.backward()\n",
    "        optimizer.step()\n",
    "        running_loss += loss.item()\n",
    "        \n",
    "        if steps % print_every == 0:\n",
    "            model.eval()\n",
    "        \n",
    "            with torch.no_grad():\n",
    "                validation_loss, accuracy = validate(model, valid_loader)\n",
    "                \n",
    "            print(\"Epoch: {}/{}.. \".format(e+1, epochs),\n",
    "                  \"Training Loss: {:.3f}.. \".format(running_loss/print_every),\n",
    "                  \"Validation Loss: {:.3f}.. \".format(validation_loss/len(valid_loader)),\n",
    "                  \"Validation Accuracy: {:.2f} %\".format(accuracy/len(valid_loader)))\n",
    "            \n",
    "            running_loss = 0\n",
    "            model.train()"
   ]
  },
  {
   "cell_type": "markdown",
   "metadata": {},
   "source": [
    "## Testing our network (Validation)\n",
    "\n",
    "It's good practice to test our trained network on test data, images the network has never seen either in training or validation. This will give ous a good estimate for the model's performance on completely new images. We run the test images through the network and measure the accuracy, the same way we did the validation."
   ]
  },
  {
   "cell_type": "code",
   "execution_count": null,
   "metadata": {},
   "outputs": [],
   "source": [
    "model.eval()\n",
    "with torch.no_grad():\n",
    "    test_loss, accuracy = validate(model, test_loader)\n",
    "\n",
    "print(\"Test Accuracy: {:.2f} %\".format(accuracy/len(test_loader)))\n"
   ]
  },
  {
   "cell_type": "markdown",
   "metadata": {},
   "source": [
    "## Save the checkpoint\n",
    "\n",
    "Now that your network is trained, save the model so you can load it later for making predictions. We want to save other things such as the mapping of classes to indices which you get from one of the image datasets: `image_datasets['train'].class_to_idx`. We can attach this to the model as an attribute which makes inference easier later on.\n",
    "\n",
    "```model.class_to_idx = image_datasets['train'].class_to_idx```\n",
    "\n",
    "We will want to completely rebuild the model later so you can use it for inference."
   ]
  },
  {
   "cell_type": "code",
   "execution_count": null,
   "metadata": {},
   "outputs": [],
   "source": [
    "model.class_to_idx = train_dataset.class_to_idx\n",
    "\n",
    "checkpoint = {\n",
    "    'batch_size': 64,\n",
    "    'input_size' : input_size,\n",
    "    'hidden_sizes': hidden_sizes,\n",
    "    'cnn_architecture' : 'densenet201',\n",
    "    'lr' : 0.001,\n",
    "    'classifier' : classifier,\n",
    "    'epochs': epochs,\n",
    "    'optimizer': optimizer.state_dict(),\n",
    "    'state_dict': model.state_dict(),\n",
    "    'class_to_idx': model.class_to_idx    \n",
    "}\n",
    "torch.save(checkpoint, './checkpoints/densenet201_epoch_50_dropout_05_lr_0_001.pth')"
   ]
  },
  {
   "cell_type": "markdown",
   "metadata": {},
   "source": [
    "## Loading the checkpoint\n",
    "\n",
    "A function that can load a checkpoint and rebuild the model. That way you can come back to this project and keep working on it without having to retrain the network."
   ]
  },
  {
   "cell_type": "code",
   "execution_count": null,
   "metadata": {},
   "outputs": [],
   "source": [
    "def load_checkpoint(filepath):\n",
    "    \n",
    "    checkpoint = torch.load(filepath)\n",
    "    learning_rate = checkpoint['lr']\n",
    "    model = getattr(torchvision.models, checkpoint['cnn_architecture'])(pretrained=True)\n",
    "    model.classifier = checkpoint['classifier']\n",
    "    model.epochs = checkpoint['epochs']\n",
    "    model.optimizer = checkpoint['optimizer']\n",
    "    model.load_state_dict(checkpoint['state_dict'])\n",
    "    model.class_to_idx = checkpoint['class_to_idx']\n",
    "    \n",
    "    return model\n",
    "load_checkpoint('./checkpoints/densenet201_epoch_50_dropout_05_lr_0_001.pth')"
   ]
  },
  {
   "cell_type": "markdown",
   "metadata": {},
   "source": [
    "## Testing our network (Training)"
   ]
  },
  {
   "cell_type": "code",
   "execution_count": null,
   "metadata": {},
   "outputs": [],
   "source": [
    "!git clone https://github.com/GabrielePicco/deep-learning-flower-identifier\n",
    "!pip install requests\n",
    "!pip install airtable\n",
    "import sys\n",
    "sys.path.insert(0, 'deep-learning-flower-identifier')\n",
    "from test_model_pytorch_facebook_challenge import calc_accuracy\n",
    "\n",
    "calc_accuracy(load_checkpoint('./checkpoints/densenet201_epoch_50_dropout_05_lr_0_001.pth'), input_image_size=224)"
   ]
  },
  {
   "cell_type": "markdown",
   "metadata": {},
   "source": [
    "# Inference for classification\n",
    "\n",
    "A function to use a trained network for inference. That is, we pass an image into the network and predict the class of the flower in the image. The function called `predict` that takes an image and a model, then returns the top $K$ most likely classes along with the probabilities. It should look like \n",
    "\n",
    "```python\n",
    "probs, classes = predict(image_path, model)\n",
    "print(probs)\n",
    "print(classes)\n",
    "> [ 0.01558163  0.01541934  0.01452626  0.01443549  0.01407339]\n",
    "> ['70', '3', '45', '62', '55']\n",
    "```\n",
    "\n",
    "## Image Preprocessing\n",
    "\n",
    "First, we resize the images where the shortest side is 256 pixels, keeping the aspect ratio. This can be done with the [`thumbnail`](http://pillow.readthedocs.io/en/3.1.x/reference/Image.html#PIL.Image.Image.thumbnail) or [`resize`](http://pillow.readthedocs.io/en/3.1.x/reference/Image.html#PIL.Image.Image.thumbnail) methods. Then we'll need to crop out the center 224x224 portion of the image.\n",
    "\n",
    "Color channels of images are typically encoded as integers 0-255, but the model expected floats 0-1. We need to convert the values. It's easiest with a Numpy array, which we can get from a PIL image like so `np_image = np.array(pil_image)`.\n",
    "\n",
    "As before, the network expects the images to be normalized in a specific way. For the means, it's `[0.485, 0.456, 0.406]` and for the standard deviations `[0.229, 0.224, 0.225]`. We thus, subtract the means from each color channel, then divide by the standard deviation. \n",
    "\n",
    "And finally, PyTorch expects the color channel to be the first dimension but it's the third dimension in the PIL image and Numpy array. We can reorder dimensions using [`ndarray.transpose`](https://docs.scipy.org/doc/numpy-1.13.0/reference/generated/numpy.ndarray.transpose.html). The color channel needs to be first and retain the order of the other two dimensions."
   ]
  },
  {
   "cell_type": "code",
   "execution_count": null,
   "metadata": {},
   "outputs": [],
   "source": [
    "\n",
    "def process_image(image_path):  \n",
    "    image = Image.open(image_path)\n",
    "    size = 255\n",
    "    width, height = image.size\n",
    "    if height > width:\n",
    "        height = int(max(height * 255 / width, 1))\n",
    "        width = int(255)\n",
    "    else:\n",
    "        width = int(max(width * 255 / height, 1))\n",
    "        height = int(255)            \n",
    "    resized_image = image.resize((width, height))\n",
    "    \n",
    "    size = 224\n",
    "    width, height = resized_image.size\n",
    "    x0 = (width - 224) / 2\n",
    "    y0 = (height - 224) / 2\n",
    "    x1 = x0 + 224\n",
    "    y1 = y0 + 224\n",
    "    cropped_image = resized_image.crop((x0, y0, x1, y1))\n",
    "\n",
    "    image = np.array(cropped_image) / 255.\n",
    "    mean = np.array([0.485, 0.456, 0.406])\n",
    "    std = np.array([0.229, 0.224, 0.225])     \n",
    "    image = (image - mean) / std\n",
    "        \n",
    "    image = image.transpose((2, 0, 1))\n",
    "    \n",
    "    return image"
   ]
  },
  {
   "cell_type": "markdown",
   "metadata": {},
   "source": [
    "To check our work, the function below converts a PyTorch tensor and displays it in the notebook. If our `process_image` function works, running the output through this function should return the original image (except for the cropped out portions)."
   ]
  },
  {
   "cell_type": "code",
   "execution_count": null,
   "metadata": {},
   "outputs": [],
   "source": [
    "def imshow(image, ax=None, title=None):\n",
    "    \n",
    "    if ax is None:\n",
    "        fig, ax = plt.subplots()\n",
    "    image = image.transpose((1, 2, 0))\n",
    "    mean = np.array([0.485, 0.456, 0.406])\n",
    "    std = np.array([0.229, 0.224, 0.225])\n",
    "    image = std * image + mean\n",
    "    image = np.clip(image, 0, 1)\n",
    "    \n",
    "    ax.imshow(image)\n",
    "    \n",
    "    return ax"
   ]
  },
  {
   "cell_type": "markdown",
   "metadata": {},
   "source": [
    "## Class Prediction\n",
    "\n",
    "Once you can get images in the correct format, it's time to write a function for making predictions with your model. A common practice is to predict the top 5 or so (usually called top-$K$) most probable classes. You'll want to calculate the class probabilities then find the $K$ largest values.\n",
    "\n",
    "To get the top $K$ largest values in a tensor use [`x.topk(k)`](http://pytorch.org/docs/master/torch.html#torch.topk). This method returns both the highest `k` probabilities and the indices of those probabilities corresponding to the classes. We need to convert from these indices to the actual class labels using `class_to_idx`. We also invert the dictionary so we can get a mapping from index to class as well.\n",
    "\n",
    "This method should take a path to an image and a model checkpoint, then return the probabilities and classes.\n",
    "\n",
    "```python\n",
    "probs, classes = predict(image_path, model)\n",
    "print(probs)\n",
    "print(classes)\n",
    "> [ 0.01558163  0.01541934  0.01452626  0.01443549  0.01407339]\n",
    "> ['70', '3', '45', '62', '55']\n",
    "```"
   ]
  },
  {
   "cell_type": "code",
   "execution_count": null,
   "metadata": {},
   "outputs": [],
   "source": [
    "def predict(image_path, model, topk=5):\n",
    "    model.cpu()\n",
    "    model.eval()\n",
    "    \n",
    "    image = process_image(image_path)\n",
    "    image = torch.from_numpy(image)\n",
    "    image = image.type(torch.FloatTensor).unsqueeze(0)\n",
    "    \n",
    "    with torch.no_grad():\n",
    "        output = model.forward(image)\n",
    "        ps = torch.exp(output)\n",
    "        \n",
    "        top_p, top_class = ps.topk(topk)\n",
    "        probable_classes = []\n",
    "        \n",
    "        for label in top_class.numpy()[0]:\n",
    "            probable_classes.append(list(model.class_to_idx.keys())[list(model.class_to_idx.values()).index(label)])\n",
    "    return top_p.numpy()[0], probable_classes"
   ]
  },
  {
   "cell_type": "markdown",
   "metadata": {},
   "source": [
    "## Sanity Checking\n",
    "\n",
    "Now that you can use a trained model for predictions, we can check to make sure it makes sense. Even if the testing accuracy is high, it's always good to check that there aren't obvious bugs. Using `matplotlib` to plot the probabilities for the top 5 classes as a bar graph, along with the input image. "
   ]
  },
  {
   "cell_type": "code",
   "execution_count": null,
   "metadata": {},
   "outputs": [],
   "source": [
    "image_files = {train_dir + '/18/image_04313.jpg' : '#F87B7B', \n",
    "               valid_dir + '/13/image_05759.jpg' : '#F69A73',\n",
    "               test_dir + '/41/image_02302.jpg' : '#F77CD4'\n",
    "              }\n",
    "\n",
    "for image_file,color in image_files.items():\n",
    "\n",
    "    top_p, probable_classes = predict(image_file, model)\n",
    "\n",
    "    fig = plt.figure(figsize=(7,7))\n",
    "    img = plt.subplot2grid((15,9), (0,0), colspan=9, rowspan=9)\n",
    "    bgnd = plt.subplot2grid((15,9), (9,2), colspan=5, rowspan=5)\n",
    "\n",
    "    image = Image.open(image_file)\n",
    "    img.axis('off')\n",
    "    img.set_title(f'{cat_to_name[probable_classes[0]]}')\n",
    "    img.imshow(image)\n",
    "\n",
    "    labels = []\n",
    "    for classes in probable_classes:\n",
    "        labels.append(cat_to_name[classes])\n",
    "\n",
    "    bgnd.set_yticks(np.arange(5))\n",
    "    bgnd.set_yticklabels(labels)\n",
    "    bgnd.set_xlabel('Probability')\n",
    "    bgnd.invert_yaxis()\n",
    "    bgnd.barh(np.arange(5), top_p, xerr=0, align='center', color=color)\n",
    "\n",
    "    plt.show()\n"
   ]
  }
 ],
 "metadata": {
  "kernelspec": {
   "display_name": "Python 3",
   "language": "python",
   "name": "python3"
  },
  "language_info": {
   "codemirror_mode": {
    "name": "ipython",
    "version": 3
   },
   "file_extension": ".py",
   "mimetype": "text/x-python",
   "name": "python",
   "nbconvert_exporter": "python",
   "pygments_lexer": "ipython3",
   "version": "3.6.7"
  }
 },
 "nbformat": 4,
 "nbformat_minor": 2
}
